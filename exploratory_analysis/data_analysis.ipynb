{
 "cells": [
  {
   "cell_type": "code",
   "execution_count": 73,
   "metadata": {},
   "outputs": [],
   "source": [
    "import pandas as pd\n",
    "import numpy as np\n",
    "import sklearn\n",
    "import json\n",
    "import matplotlib.pyplot as plot\n",
    "%matplotlib inline"
   ]
  },
  {
   "cell_type": "code",
   "execution_count": 2,
   "metadata": {},
   "outputs": [],
   "source": [
    "info_file = 'user_metadata_latest.jsonl'\n",
    "info_train = []\n",
    "with open(info_file) as fp:\n",
    "    for line in fp.readlines():\n",
    "        info_train.append(json.loads(line))"
   ]
  },
  {
   "cell_type": "code",
   "execution_count": 3,
   "metadata": {},
   "outputs": [],
   "source": [
    "user_info = pd.DataFrame(info_train)"
   ]
  },
  {
   "cell_type": "code",
   "execution_count": 56,
   "metadata": {},
   "outputs": [
    {
     "data": {
      "text/html": [
       "<div>\n",
       "<style scoped>\n",
       "    .dataframe tbody tr th:only-of-type {\n",
       "        vertical-align: middle;\n",
       "    }\n",
       "\n",
       "    .dataframe tbody tr th {\n",
       "        vertical-align: top;\n",
       "    }\n",
       "\n",
       "    .dataframe thead th {\n",
       "        text-align: right;\n",
       "    }\n",
       "</style>\n",
       "<table border=\"1\" class=\"dataframe\">\n",
       "  <thead>\n",
       "    <tr style=\"text-align: right;\">\n",
       "      <th></th>\n",
       "      <th>created_at</th>\n",
       "      <th>description</th>\n",
       "      <th>favourites_count</th>\n",
       "      <th>followers_count</th>\n",
       "      <th>friends_count</th>\n",
       "      <th>id</th>\n",
       "      <th>lang</th>\n",
       "      <th>listed_count</th>\n",
       "      <th>location</th>\n",
       "      <th>name</th>\n",
       "      <th>profile_location</th>\n",
       "      <th>screen_name</th>\n",
       "      <th>statuses_count</th>\n",
       "      <th>time_zone</th>\n",
       "      <th>utc_offset</th>\n",
       "      <th>verified</th>\n",
       "    </tr>\n",
       "  </thead>\n",
       "  <tbody>\n",
       "    <tr>\n",
       "      <th>0</th>\n",
       "      <td>2018-03-25 02:13:52</td>\n",
       "      <td>eating disorder survivor - cat lover - writer ...</td>\n",
       "      <td>27</td>\n",
       "      <td>57</td>\n",
       "      <td>154</td>\n",
       "      <td>977730252649705472</td>\n",
       "      <td>en</td>\n",
       "      <td>0</td>\n",
       "      <td></td>\n",
       "      <td>Jeanine Cyze</td>\n",
       "      <td>None</td>\n",
       "      <td>cyzeoversize</td>\n",
       "      <td>82</td>\n",
       "      <td>None</td>\n",
       "      <td>None</td>\n",
       "      <td>False</td>\n",
       "    </tr>\n",
       "    <tr>\n",
       "      <th>1</th>\n",
       "      <td>2016-06-11 17:44:25</td>\n",
       "      <td>Mental health + Autism campaigner in Wales. Ra...</td>\n",
       "      <td>2332</td>\n",
       "      <td>949</td>\n",
       "      <td>696</td>\n",
       "      <td>741687543687741440</td>\n",
       "      <td>en</td>\n",
       "      <td>6</td>\n",
       "      <td>Wales, United Kingdom</td>\n",
       "      <td>Mair Elliott</td>\n",
       "      <td>None</td>\n",
       "      <td>MairElliott1</td>\n",
       "      <td>1835</td>\n",
       "      <td>None</td>\n",
       "      <td>None</td>\n",
       "      <td>False</td>\n",
       "    </tr>\n",
       "    <tr>\n",
       "      <th>2</th>\n",
       "      <td>2011-07-19 04:34:11</td>\n",
       "      <td>Sometimes I paint my pictures with words. Some...</td>\n",
       "      <td>3785</td>\n",
       "      <td>250</td>\n",
       "      <td>521</td>\n",
       "      <td>338151808</td>\n",
       "      <td>en</td>\n",
       "      <td>6</td>\n",
       "      <td>The Mitten ✋🏻</td>\n",
       "      <td>Kala✨</td>\n",
       "      <td>None</td>\n",
       "      <td>ItsKalaNoY</td>\n",
       "      <td>16916</td>\n",
       "      <td>None</td>\n",
       "      <td>None</td>\n",
       "      <td>False</td>\n",
       "    </tr>\n",
       "    <tr>\n",
       "      <th>3</th>\n",
       "      <td>2009-05-17 16:36:28</td>\n",
       "      <td>♡ 22 year old Princess from Scotland. ✨ Tattoo...</td>\n",
       "      <td>22307</td>\n",
       "      <td>2867</td>\n",
       "      <td>517</td>\n",
       "      <td>40688348</td>\n",
       "      <td>en</td>\n",
       "      <td>25</td>\n",
       "      <td>Wonderland</td>\n",
       "      <td>🖤👻 Ree 🎃🖤</td>\n",
       "      <td>None</td>\n",
       "      <td>earthtoree</td>\n",
       "      <td>53628</td>\n",
       "      <td>None</td>\n",
       "      <td>None</td>\n",
       "      <td>False</td>\n",
       "    </tr>\n",
       "    <tr>\n",
       "      <th>4</th>\n",
       "      <td>2009-09-23 10:06:57</td>\n",
       "      <td>..Change is always possible.. Trying to recove...</td>\n",
       "      <td>639</td>\n",
       "      <td>801</td>\n",
       "      <td>869</td>\n",
       "      <td>76607387</td>\n",
       "      <td>en</td>\n",
       "      <td>20</td>\n",
       "      <td></td>\n",
       "      <td>Beck</td>\n",
       "      <td>None</td>\n",
       "      <td>NewFoundWings</td>\n",
       "      <td>18537</td>\n",
       "      <td>None</td>\n",
       "      <td>None</td>\n",
       "      <td>False</td>\n",
       "    </tr>\n",
       "  </tbody>\n",
       "</table>\n",
       "</div>"
      ],
      "text/plain": [
       "            created_at                                        description  \\\n",
       "0  2018-03-25 02:13:52  eating disorder survivor - cat lover - writer ...   \n",
       "1  2016-06-11 17:44:25  Mental health + Autism campaigner in Wales. Ra...   \n",
       "2  2011-07-19 04:34:11  Sometimes I paint my pictures with words. Some...   \n",
       "3  2009-05-17 16:36:28  ♡ 22 year old Princess from Scotland. ✨ Tattoo...   \n",
       "4  2009-09-23 10:06:57  ..Change is always possible.. Trying to recove...   \n",
       "\n",
       "   favourites_count  followers_count  friends_count                  id lang  \\\n",
       "0                27               57            154  977730252649705472   en   \n",
       "1              2332              949            696  741687543687741440   en   \n",
       "2              3785              250            521           338151808   en   \n",
       "3             22307             2867            517            40688348   en   \n",
       "4               639              801            869            76607387   en   \n",
       "\n",
       "   listed_count               location          name profile_location  \\\n",
       "0             0                         Jeanine Cyze             None   \n",
       "1             6  Wales, United Kingdom  Mair Elliott             None   \n",
       "2             6          The Mitten ✋🏻         Kala✨             None   \n",
       "3            25             Wonderland     🖤👻 Ree 🎃🖤             None   \n",
       "4            20                                 Beck             None   \n",
       "\n",
       "     screen_name  statuses_count time_zone utc_offset  verified  \n",
       "0   cyzeoversize              82      None       None     False  \n",
       "1   MairElliott1            1835      None       None     False  \n",
       "2     ItsKalaNoY           16916      None       None     False  \n",
       "3     earthtoree           53628      None       None     False  \n",
       "4  NewFoundWings           18537      None       None     False  "
      ]
     },
     "execution_count": 56,
     "metadata": {},
     "output_type": "execute_result"
    }
   ],
   "source": [
    "user_info.head()"
   ]
  },
  {
   "cell_type": "code",
   "execution_count": 5,
   "metadata": {},
   "outputs": [],
   "source": [
    "dump = user_info[['description','statuses_count', 'screen_name']]"
   ]
  },
  {
   "cell_type": "code",
   "execution_count": 6,
   "metadata": {},
   "outputs": [
    {
     "data": {
      "text/html": [
       "<div>\n",
       "<style scoped>\n",
       "    .dataframe tbody tr th:only-of-type {\n",
       "        vertical-align: middle;\n",
       "    }\n",
       "\n",
       "    .dataframe tbody tr th {\n",
       "        vertical-align: top;\n",
       "    }\n",
       "\n",
       "    .dataframe thead th {\n",
       "        text-align: right;\n",
       "    }\n",
       "</style>\n",
       "<table border=\"1\" class=\"dataframe\">\n",
       "  <thead>\n",
       "    <tr style=\"text-align: right;\">\n",
       "      <th></th>\n",
       "      <th>description</th>\n",
       "      <th>statuses_count</th>\n",
       "      <th>screen_name</th>\n",
       "    </tr>\n",
       "  </thead>\n",
       "  <tbody>\n",
       "    <tr>\n",
       "      <th>0</th>\n",
       "      <td>eating disorder survivor - cat lover - writer ...</td>\n",
       "      <td>82</td>\n",
       "      <td>cyzeoversize</td>\n",
       "    </tr>\n",
       "    <tr>\n",
       "      <th>1</th>\n",
       "      <td>Mental health + Autism campaigner in Wales. Ra...</td>\n",
       "      <td>1835</td>\n",
       "      <td>MairElliott1</td>\n",
       "    </tr>\n",
       "    <tr>\n",
       "      <th>2</th>\n",
       "      <td>Sometimes I paint my pictures with words. Some...</td>\n",
       "      <td>16916</td>\n",
       "      <td>ItsKalaNoY</td>\n",
       "    </tr>\n",
       "    <tr>\n",
       "      <th>3</th>\n",
       "      <td>♡ 22 year old Princess from Scotland. ✨ Tattoo...</td>\n",
       "      <td>53628</td>\n",
       "      <td>earthtoree</td>\n",
       "    </tr>\n",
       "    <tr>\n",
       "      <th>4</th>\n",
       "      <td>..Change is always possible.. Trying to recove...</td>\n",
       "      <td>18537</td>\n",
       "      <td>NewFoundWings</td>\n",
       "    </tr>\n",
       "    <tr>\n",
       "      <th>5</th>\n",
       "      <td>sensitive gal de profession #queerasfuck #meto...</td>\n",
       "      <td>573</td>\n",
       "      <td>lilglacevanille</td>\n",
       "    </tr>\n",
       "    <tr>\n",
       "      <th>6</th>\n",
       "      <td>Runner, warrior, author of Stand Tall Little G...</td>\n",
       "      <td>24640</td>\n",
       "      <td>HopeVirgo</td>\n",
       "    </tr>\n",
       "    <tr>\n",
       "      <th>7</th>\n",
       "      <td>Lisabeth's story is one of wrestling with her ...</td>\n",
       "      <td>240</td>\n",
       "      <td>lisabethkaeser</td>\n",
       "    </tr>\n",
       "    <tr>\n",
       "      <th>8</th>\n",
       "      <td>21|VanCity|Music|Swiftie|Youtube = life. I MET...</td>\n",
       "      <td>2303</td>\n",
       "      <td>AmandaGrundle</td>\n",
       "    </tr>\n",
       "    <tr>\n",
       "      <th>9</th>\n",
       "      <td>coffee drinking tree hugger 🌲 🏕 PTA student. r...</td>\n",
       "      <td>5978</td>\n",
       "      <td>HanBaNannz</td>\n",
       "    </tr>\n",
       "  </tbody>\n",
       "</table>\n",
       "</div>"
      ],
      "text/plain": [
       "                                         description  statuses_count  \\\n",
       "0  eating disorder survivor - cat lover - writer ...              82   \n",
       "1  Mental health + Autism campaigner in Wales. Ra...            1835   \n",
       "2  Sometimes I paint my pictures with words. Some...           16916   \n",
       "3  ♡ 22 year old Princess from Scotland. ✨ Tattoo...           53628   \n",
       "4  ..Change is always possible.. Trying to recove...           18537   \n",
       "5  sensitive gal de profession #queerasfuck #meto...             573   \n",
       "6  Runner, warrior, author of Stand Tall Little G...           24640   \n",
       "7  Lisabeth's story is one of wrestling with her ...             240   \n",
       "8  21|VanCity|Music|Swiftie|Youtube = life. I MET...            2303   \n",
       "9  coffee drinking tree hugger 🌲 🏕 PTA student. r...            5978   \n",
       "\n",
       "       screen_name  \n",
       "0     cyzeoversize  \n",
       "1     MairElliott1  \n",
       "2       ItsKalaNoY  \n",
       "3       earthtoree  \n",
       "4    NewFoundWings  \n",
       "5  lilglacevanille  \n",
       "6        HopeVirgo  \n",
       "7   lisabethkaeser  \n",
       "8    AmandaGrundle  \n",
       "9       HanBaNannz  "
      ]
     },
     "execution_count": 6,
     "metadata": {},
     "output_type": "execute_result"
    }
   ],
   "source": [
    "dump"
   ]
  },
  {
   "cell_type": "code",
   "execution_count": 7,
   "metadata": {},
   "outputs": [],
   "source": [
    "tweet_file = 'user_tweets_latest.jsonl'\n",
    "tweet_train = []\n",
    "with open(tweet_file) as fp:\n",
    "    for line in fp.readlines():\n",
    "        tweet_train.append(json.loads(line))"
   ]
  },
  {
   "cell_type": "code",
   "execution_count": 8,
   "metadata": {},
   "outputs": [],
   "source": [
    "tweets = pd.DataFrame(tweet_train)"
   ]
  },
  {
   "cell_type": "code",
   "execution_count": 9,
   "metadata": {},
   "outputs": [
    {
     "data": {
      "text/html": [
       "<div>\n",
       "<style scoped>\n",
       "    .dataframe tbody tr th:only-of-type {\n",
       "        vertical-align: middle;\n",
       "    }\n",
       "\n",
       "    .dataframe tbody tr th {\n",
       "        vertical-align: top;\n",
       "    }\n",
       "\n",
       "    .dataframe thead th {\n",
       "        text-align: right;\n",
       "    }\n",
       "</style>\n",
       "<table border=\"1\" class=\"dataframe\">\n",
       "  <thead>\n",
       "    <tr style=\"text-align: right;\">\n",
       "      <th></th>\n",
       "      <th>entities</th>\n",
       "      <th>id</th>\n",
       "      <th>in_reply_to_status_id</th>\n",
       "      <th>in_reply_to_user_id</th>\n",
       "      <th>text</th>\n",
       "      <th>truncated</th>\n",
       "      <th>tweeter_id</th>\n",
       "      <th>tweeter_screen_name</th>\n",
       "    </tr>\n",
       "  </thead>\n",
       "  <tbody>\n",
       "    <tr>\n",
       "      <th>0</th>\n",
       "      <td>{'hashtags': [], 'symbols': [], 'user_mentions...</td>\n",
       "      <td>1050256335491616768</td>\n",
       "      <td>1.050256e+18</td>\n",
       "      <td>573318461.0</td>\n",
       "      <td>Oh and btw I met her in your unicorn onesie an...</td>\n",
       "      <td>False</td>\n",
       "      <td>573318461</td>\n",
       "      <td>AmandaGrundle</td>\n",
       "    </tr>\n",
       "    <tr>\n",
       "      <th>1</th>\n",
       "      <td>{'hashtags': [{'text': 'anorexiarecovery', 'in...</td>\n",
       "      <td>1050256080029118465</td>\n",
       "      <td>NaN</td>\n",
       "      <td>NaN</td>\n",
       "      <td>Hey @laurDIY!! Just me over here reminiscing o...</td>\n",
       "      <td>False</td>\n",
       "      <td>573318461</td>\n",
       "      <td>AmandaGrundle</td>\n",
       "    </tr>\n",
       "    <tr>\n",
       "      <th>2</th>\n",
       "      <td>{'hashtags': [], 'symbols': [], 'user_mentions...</td>\n",
       "      <td>1049484781400936448</td>\n",
       "      <td>1.049175e+18</td>\n",
       "      <td>338597571.0</td>\n",
       "      <td>@joeygrundl Omg lucky</td>\n",
       "      <td>False</td>\n",
       "      <td>573318461</td>\n",
       "      <td>AmandaGrundle</td>\n",
       "    </tr>\n",
       "    <tr>\n",
       "      <th>3</th>\n",
       "      <td>{'hashtags': [], 'symbols': [], 'user_mentions...</td>\n",
       "      <td>1049402347808534529</td>\n",
       "      <td>NaN</td>\n",
       "      <td>NaN</td>\n",
       "      <td>I added a video to a @YouTube playlist https:/...</td>\n",
       "      <td>False</td>\n",
       "      <td>573318461</td>\n",
       "      <td>AmandaGrundle</td>\n",
       "    </tr>\n",
       "    <tr>\n",
       "      <th>4</th>\n",
       "      <td>{'hashtags': [], 'symbols': [], 'user_mentions...</td>\n",
       "      <td>1049376542562836480</td>\n",
       "      <td>NaN</td>\n",
       "      <td>NaN</td>\n",
       "      <td>VOTED!!! I’M SO EXCITED TO SEE @taylorswift13 ...</td>\n",
       "      <td>False</td>\n",
       "      <td>573318461</td>\n",
       "      <td>AmandaGrundle</td>\n",
       "    </tr>\n",
       "  </tbody>\n",
       "</table>\n",
       "</div>"
      ],
      "text/plain": [
       "                                            entities                   id  \\\n",
       "0  {'hashtags': [], 'symbols': [], 'user_mentions...  1050256335491616768   \n",
       "1  {'hashtags': [{'text': 'anorexiarecovery', 'in...  1050256080029118465   \n",
       "2  {'hashtags': [], 'symbols': [], 'user_mentions...  1049484781400936448   \n",
       "3  {'hashtags': [], 'symbols': [], 'user_mentions...  1049402347808534529   \n",
       "4  {'hashtags': [], 'symbols': [], 'user_mentions...  1049376542562836480   \n",
       "\n",
       "   in_reply_to_status_id  in_reply_to_user_id  \\\n",
       "0           1.050256e+18          573318461.0   \n",
       "1                    NaN                  NaN   \n",
       "2           1.049175e+18          338597571.0   \n",
       "3                    NaN                  NaN   \n",
       "4                    NaN                  NaN   \n",
       "\n",
       "                                                text  truncated  tweeter_id  \\\n",
       "0  Oh and btw I met her in your unicorn onesie an...      False   573318461   \n",
       "1  Hey @laurDIY!! Just me over here reminiscing o...      False   573318461   \n",
       "2                              @joeygrundl Omg lucky      False   573318461   \n",
       "3  I added a video to a @YouTube playlist https:/...      False   573318461   \n",
       "4  VOTED!!! I’M SO EXCITED TO SEE @taylorswift13 ...      False   573318461   \n",
       "\n",
       "  tweeter_screen_name  \n",
       "0       AmandaGrundle  \n",
       "1       AmandaGrundle  \n",
       "2       AmandaGrundle  \n",
       "3       AmandaGrundle  \n",
       "4       AmandaGrundle  "
      ]
     },
     "execution_count": 9,
     "metadata": {},
     "output_type": "execute_result"
    }
   ],
   "source": [
    "tweets.head()"
   ]
  },
  {
   "cell_type": "code",
   "execution_count": 10,
   "metadata": {},
   "outputs": [],
   "source": [
    "NewFoundWings = tweets[tweets.tweeter_screen_name=='NewFoundWings']"
   ]
  },
  {
   "cell_type": "code",
   "execution_count": 11,
   "metadata": {},
   "outputs": [],
   "source": [
    "NewFoundWings.reset_index(inplace=True)"
   ]
  },
  {
   "cell_type": "code",
   "execution_count": 13,
   "metadata": {},
   "outputs": [
    {
     "data": {
      "text/html": [
       "<div>\n",
       "<style scoped>\n",
       "    .dataframe tbody tr th:only-of-type {\n",
       "        vertical-align: middle;\n",
       "    }\n",
       "\n",
       "    .dataframe tbody tr th {\n",
       "        vertical-align: top;\n",
       "    }\n",
       "\n",
       "    .dataframe thead th {\n",
       "        text-align: right;\n",
       "    }\n",
       "</style>\n",
       "<table border=\"1\" class=\"dataframe\">\n",
       "  <thead>\n",
       "    <tr style=\"text-align: right;\">\n",
       "      <th></th>\n",
       "      <th>index</th>\n",
       "      <th>entities</th>\n",
       "      <th>id</th>\n",
       "      <th>in_reply_to_status_id</th>\n",
       "      <th>in_reply_to_user_id</th>\n",
       "      <th>text</th>\n",
       "      <th>truncated</th>\n",
       "      <th>tweeter_id</th>\n",
       "      <th>tweeter_screen_name</th>\n",
       "    </tr>\n",
       "  </thead>\n",
       "  <tbody>\n",
       "    <tr>\n",
       "      <th>0</th>\n",
       "      <td>10494</td>\n",
       "      <td>{'hashtags': [], 'symbols': [], 'user_mentions...</td>\n",
       "      <td>1051741357876883457</td>\n",
       "      <td>1.051734e+18</td>\n",
       "      <td>20902901.0</td>\n",
       "      <td>@BefuddledSharon I know some schools already d...</td>\n",
       "      <td>False</td>\n",
       "      <td>76607387</td>\n",
       "      <td>NewFoundWings</td>\n",
       "    </tr>\n",
       "    <tr>\n",
       "      <th>1</th>\n",
       "      <td>10495</td>\n",
       "      <td>{'hashtags': [{'text': 'Casualty', 'indices': ...</td>\n",
       "      <td>1051466061407772684</td>\n",
       "      <td>1.051405e+18</td>\n",
       "      <td>706876069.0</td>\n",
       "      <td>@BBCCasualty People questioning how she got to...</td>\n",
       "      <td>False</td>\n",
       "      <td>76607387</td>\n",
       "      <td>NewFoundWings</td>\n",
       "    </tr>\n",
       "    <tr>\n",
       "      <th>2</th>\n",
       "      <td>10496</td>\n",
       "      <td>{'hashtags': [], 'symbols': [], 'user_mentions...</td>\n",
       "      <td>1051461255796576256</td>\n",
       "      <td>1.051458e+18</td>\n",
       "      <td>44356998.0</td>\n",
       "      <td>@RoyalParksHalf @Pret @Luciee_lu We missed thi...</td>\n",
       "      <td>False</td>\n",
       "      <td>76607387</td>\n",
       "      <td>NewFoundWings</td>\n",
       "    </tr>\n",
       "    <tr>\n",
       "      <th>3</th>\n",
       "      <td>10497</td>\n",
       "      <td>{'hashtags': [{'text': 'BBCSML', 'indices': [2...</td>\n",
       "      <td>1051429683278024706</td>\n",
       "      <td>NaN</td>\n",
       "      <td>NaN</td>\n",
       "      <td>Mental health - everyone has it.\\n\\nMental ill...</td>\n",
       "      <td>False</td>\n",
       "      <td>76607387</td>\n",
       "      <td>NewFoundWings</td>\n",
       "    </tr>\n",
       "    <tr>\n",
       "      <th>4</th>\n",
       "      <td>10498</td>\n",
       "      <td>{'hashtags': [{'text': 'BBCSML', 'indices': [2...</td>\n",
       "      <td>1051428577818886144</td>\n",
       "      <td>NaN</td>\n",
       "      <td>NaN</td>\n",
       "      <td>'The best people to see mental health issues a...</td>\n",
       "      <td>False</td>\n",
       "      <td>76607387</td>\n",
       "      <td>NewFoundWings</td>\n",
       "    </tr>\n",
       "  </tbody>\n",
       "</table>\n",
       "</div>"
      ],
      "text/plain": [
       "   index                                           entities  \\\n",
       "0  10494  {'hashtags': [], 'symbols': [], 'user_mentions...   \n",
       "1  10495  {'hashtags': [{'text': 'Casualty', 'indices': ...   \n",
       "2  10496  {'hashtags': [], 'symbols': [], 'user_mentions...   \n",
       "3  10497  {'hashtags': [{'text': 'BBCSML', 'indices': [2...   \n",
       "4  10498  {'hashtags': [{'text': 'BBCSML', 'indices': [2...   \n",
       "\n",
       "                    id  in_reply_to_status_id  in_reply_to_user_id  \\\n",
       "0  1051741357876883457           1.051734e+18           20902901.0   \n",
       "1  1051466061407772684           1.051405e+18          706876069.0   \n",
       "2  1051461255796576256           1.051458e+18           44356998.0   \n",
       "3  1051429683278024706                    NaN                  NaN   \n",
       "4  1051428577818886144                    NaN                  NaN   \n",
       "\n",
       "                                                text  truncated  tweeter_id  \\\n",
       "0  @BefuddledSharon I know some schools already d...      False    76607387   \n",
       "1  @BBCCasualty People questioning how she got to...      False    76607387   \n",
       "2  @RoyalParksHalf @Pret @Luciee_lu We missed thi...      False    76607387   \n",
       "3  Mental health - everyone has it.\\n\\nMental ill...      False    76607387   \n",
       "4  'The best people to see mental health issues a...      False    76607387   \n",
       "\n",
       "  tweeter_screen_name  \n",
       "0       NewFoundWings  \n",
       "1       NewFoundWings  \n",
       "2       NewFoundWings  \n",
       "3       NewFoundWings  \n",
       "4       NewFoundWings  "
      ]
     },
     "execution_count": 13,
     "metadata": {},
     "output_type": "execute_result"
    }
   ],
   "source": [
    "NewFoundWings.head()"
   ]
  },
  {
   "cell_type": "code",
   "execution_count": 15,
   "metadata": {},
   "outputs": [
    {
     "name": "stdout",
     "output_type": "stream",
     "text": [
      "[nltk_data] Downloading package wordnet to\n",
      "[nltk_data]     /Users/rvsandeep/nltk_data...\n",
      "[nltk_data]   Package wordnet is already up-to-date!\n",
      "[nltk_data] Downloading package wordnet to\n",
      "[nltk_data]     /Users/rvsandeep/nltk_data...\n",
      "[nltk_data]   Package wordnet is already up-to-date!\n"
     ]
    }
   ],
   "source": [
    "from vaderSentiment.vaderSentiment import SentimentIntensityAnalyzer\n",
    "from imp import reload\n",
    "import TweetPreprocessor\n",
    "reload(TweetPreprocessor)\n",
    "from TweetPreprocessor import TweetPreprocessor \n",
    "\n",
    "analyser = SentimentIntensityAnalyzer()\n",
    "\n",
    "def analyse_sentiment(tweeter, preprocess=False):\n",
    "    for i in range(0, tweeter.shape[0]):\n",
    "        text = tweeter.iloc[i].text\n",
    "        np_score = analyser.polarity_scores(text)\n",
    "        \n",
    "        preprocessed_text = TweetPreprocessor.pipeline(text)\n",
    "        score = analyser.polarity_scores(preprocessed_text)\n",
    "        \n",
    "        tweeter.loc[i, 'compound'] = score['compound']\n",
    "        tweeter.loc[i, 'pos'] = score['pos']\n",
    "        tweeter.loc[i, 'neg'] = score['neg']\n",
    "        tweeter.loc[i, 'neu'] = score['neu']\n",
    "        \n",
    "        tweeter.loc[i, 'compound_np'] = np_score['compound']\n",
    "        tweeter.loc[i, 'pos_np'] = np_score['pos']\n",
    "        tweeter.loc[i, 'neg_np'] = np_score['neg']\n",
    "        tweeter.loc[i, 'neu_np'] = np_score['neu']      \n",
    "    return tweeter"
   ]
  },
  {
   "cell_type": "code",
   "execution_count": 46,
   "metadata": {},
   "outputs": [
    {
     "data": {
      "text/plain": [
       "(20480, 16)"
      ]
     },
     "execution_count": 46,
     "metadata": {},
     "output_type": "execute_result"
    }
   ],
   "source": [
    "tweets.shape"
   ]
  },
  {
   "cell_type": "code",
   "execution_count": 49,
   "metadata": {},
   "outputs": [],
   "source": [
    "analysed_users = analyse_sentiment(pd.DataFrame(tweets))"
   ]
  },
  {
   "cell_type": "code",
   "execution_count": null,
   "metadata": {},
   "outputs": [],
   "source": [
    "analysed_users['is_support'] = \"No\"\n",
    "analysed_users.loc[analysed_users['tweeter_screen_name'] == \"lilglacevanille\", 'is_support'] = \"Yes\"\n",
    "analysed_users.loc[analysed_users['tweeter_screen_name'] == \"ItsKalaNoY\", 'is_support'] = \"Yes\"\n",
    "analysed_users.loc[analysed_users['tweeter_screen_name'] == \"AmandaGrundle\", 'is_support'] = \"Yes\"\n",
    "analysed_users.loc[analysed_users['tweeter_screen_name'] == \"earthtoree\", 'is_support'] = \"Yes\"\n",
    "analysed_users.loc[analysed_users['tweeter_screen_name'] == \"HanBaNannz\", 'is_support'] = \"Yes\""
   ]
  },
  {
   "cell_type": "code",
   "execution_count": 51,
   "metadata": {},
   "outputs": [
    {
     "data": {
      "text/plain": [
       "(20480, 16)"
      ]
     },
     "execution_count": 51,
     "metadata": {},
     "output_type": "execute_result"
    }
   ],
   "source": [
    "analysed_users.shape"
   ]
  },
  {
   "cell_type": "code",
   "execution_count": 79,
   "metadata": {},
   "outputs": [
    {
     "data": {
      "text/plain": [
       "array([<matplotlib.axes._subplots.AxesSubplot object at 0x12c29eb38>,\n",
       "       <matplotlib.axes._subplots.AxesSubplot object at 0x12b4f0a58>], dtype=object)"
      ]
     },
     "execution_count": 79,
     "metadata": {},
     "output_type": "execute_result"
    },
    {
     "data": {
      "image/png": "[encoded data removed]",
      "text/plain": [
       "<matplotlib.figure.Figure at 0x1240716a0>"
      ]
     },
     "metadata": {},
     "output_type": "display_data"
    },
    {
     "data": {
      "image/png": "[encoded data removed]",
      "text/plain": [
       "<matplotlib.figure.Figure at 0x12c7292e8>"
      ]
     },
     "metadata": {},
     "output_type": "display_data"
    },
    {
     "data": {
      "image/png": "[encoded data removed]",
      "text/plain": [
       "<matplotlib.figure.Figure at 0x12c6d9be0>"
      ]
     },
     "metadata": {},
     "output_type": "display_data"
    },
    {
     "data": {
      "image/png": "[encoded data removed]",
      "text/plain": [
       "<matplotlib.figure.Figure at 0x12d0a5fd0>"
      ]
     },
     "metadata": {},
     "output_type": "display_data"
    }
   ],
   "source": [
    "analysed_users[['compound_np','compound']].hist(bins=15, by=analysed_users['is_support'],figsize=(15,5), sharex=True, sharey=True)\n",
    "analysed_users[['pos_np','pos']].hist(bins=15, by=analysed_users['is_support'], figsize=(15,6), sharex=True, sharey=True)\n",
    "analysed_users[['neg_np','neg']].hist(bins=15, by=analysed_users['is_support'], figsize=(15,6), sharex=True, sharey=True)\n",
    "analysed_users[['neu_np','neu']].hist(bins=15, by=analysed_users['is_support'], figsize=(15,6), sharex=True, sharey=True)\n"
   ]
  },
  {
   "cell_type": "code",
   "execution_count": null,
   "metadata": {},
   "outputs": [],
   "source": []
  }
 ],
 "metadata": {
  "kernelspec": {
   "display_name": "detectana",
   "language": "python",
   "name": "detectana"
  },
  "language_info": {
   "codemirror_mode": {
    "name": "ipython",
    "version": 3
   },
   "file_extension": ".py",
   "mimetype": "text/x-python",
   "name": "python",
   "nbconvert_exporter": "python",
   "pygments_lexer": "ipython3",
   "version": "3.6.4"
  }
 },
 "nbformat": 4,
 "nbformat_minor": 2
}
